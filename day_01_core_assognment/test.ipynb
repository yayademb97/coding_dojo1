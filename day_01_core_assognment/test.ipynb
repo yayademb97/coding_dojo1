{
 "cells": [
  {
   "cell_type": "code",
   "execution_count": null,
   "metadata": {},
   "outputs": [],
   "source": [
    "for i in range(2018, 0, -1):\n",
    "    if i%4==0:\n",
    "        count = count + i\n",
    "        print(count)"
   ]
  }
 ],
 "metadata": {
  "kernelspec": {
   "display_name": "Python 3",
   "language": "python",
   "name": "python3"
  },
  "language_info": {
   "name": "python",
   "version": "3.11.1 (tags/v3.11.1:a7a450f, Dec  6 2022, 19:58:39) [MSC v.1934 64 bit (AMD64)]"
  },
  "orig_nbformat": 4,
  "vscode": {
   "interpreter": {
    "hash": "5c31f503d967105adf9afa15496d9b268304c014dbaf844f29d42957096699cb"
   }
  }
 },
 "nbformat": 4,
 "nbformat_minor": 2
}
